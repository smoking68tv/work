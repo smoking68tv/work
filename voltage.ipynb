{
 "metadata": {
  "language_info": {
   "codemirror_mode": {
    "name": "ipython",
    "version": 3
   },
   "file_extension": ".py",
   "mimetype": "text/x-python",
   "name": "python",
   "nbconvert_exporter": "python",
   "pygments_lexer": "ipython3",
   "version": "3.8.3-final"
  },
  "orig_nbformat": 2,
  "kernelspec": {
   "name": "python3",
   "display_name": "Python 3"
  }
 },
 "nbformat": 4,
 "nbformat_minor": 2,
 "cells": [
  {
   "cell_type": "code",
   "execution_count": 1,
   "metadata": {},
   "outputs": [],
   "source": [
    "import pandas as pd\n",
    "import numpy as np\n",
    "import os\n",
    "\n",
    "columns = ['date','num_series', 'voltage', 'current', 'v_err', 'i_err']\n",
    "data = pd.read_csv('../files/cellsense/2019-12-01.csv', encoding='cp1251',sep=';', names=columns)\n"
   ]
  },
  {
   "cell_type": "code",
   "execution_count": 2,
   "metadata": {},
   "outputs": [],
   "source": [
    "def change_date(x):\n",
    "    ### Получаем дату из формата [date time]\n",
    "    date = x.split(' ')[0]\n",
    "    return date\n",
    "\n",
    "def to_float(x):\n",
    "    ### Перевод напряжения из типа строки в float\n",
    "    if isinstance(x,str):\n",
    "        x = x.replace(',','.')\n",
    "        return float(x)\n",
    "    else: return x"
   ]
  },
  {
   "cell_type": "code",
   "execution_count": 3,
   "metadata": {},
   "outputs": [],
   "source": [
    "def get_pivot(df):\n",
    "    ### Формирование общей таблицы - среднее напряжение по всем сериям за месяц\n",
    "    df = df[df.num_series.notnull()]\n",
    "    _df_res = pd.DataFrame({'date':0, 'voltage': 0, 'num_series':0}, index=[0])\n",
    "    \n",
    "    for item in range(1, 33):\n",
    "        _df_item = create_df(df,item)\n",
    "        _df_res = pd.concat([_df_res, _df_item], ignore_index=True)\n",
    "    _df_res.drop([0], inplace=True)\n",
    "    return _df_res"
   ]
  },
  {
   "cell_type": "code",
   "execution_count": 4,
   "metadata": {},
   "outputs": [],
   "source": [
    "def create_df(df, num_series):\n",
    "    ### Формирование сводной таблицы - среднее напряжение на серии за месяц\n",
    "    ### В базе данных номер серии и ванны в формате [num_series * 1000 + num_bath]\n",
    "    num = num_series * 1000 \n",
    "    _df = df[(df['num_series'] >= num) & (df['num_series'] < (num + 1000))] \n",
    "\n",
    "    _df['date'] = _df['date'].apply(change_date)\n",
    "    _df['voltage'] = _df['voltage'].apply(to_float)\n",
    "\n",
    "    _df = _df.pivot_table(index='date', values='voltage', aggfunc=np.mean)\n",
    "    _df = _df.reset_index()\n",
    "    _df['num_series'] = num_series\n",
    "    return _df\n",
    "    "
   ]
  },
  {
   "cell_type": "code",
   "execution_count": 5,
   "metadata": {},
   "outputs": [],
   "source": [
    "pivot = get_pivot(data)\n",
    "res = pivot.pivot_table(index='date', values='voltage', columns='num_series', aggfunc=np.mean)\n",
    "res.to_excel('../files/cellsense/12.xlsx')"
   ]
  }
 ]
}