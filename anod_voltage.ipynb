{
 "metadata": {
  "language_info": {
   "codemirror_mode": {
    "name": "ipython",
    "version": 3
   },
   "file_extension": ".py",
   "mimetype": "text/x-python",
   "name": "python",
   "nbconvert_exporter": "python",
   "pygments_lexer": "ipython3",
   "version": "3.8.3-final"
  },
  "orig_nbformat": 2,
  "kernelspec": {
   "name": "python3",
   "display_name": "Python 3"
  }
 },
 "nbformat": 4,
 "nbformat_minor": 2,
 "cells": [
  {
   "cell_type": "code",
   "execution_count": 154,
   "metadata": {},
   "outputs": [],
   "source": [
    "import pandas as pd\n",
    "import numpy as np\n",
    "import datetime\n"
   ]
  },
  {
   "cell_type": "code",
   "execution_count": 155,
   "metadata": {},
   "outputs": [],
   "source": [
    "def change_date(x):\n",
    "    ### Получаем дату из формата [date time]\n",
    "    date = x.split(' ')[0]\n",
    "    return date\n",
    "\n",
    "def change_date_T(x):\n",
    "    ### Получаем дату из формата [dateTtime]\n",
    "    date = x.split('T')[0]\n",
    "    return date\n",
    "\n",
    "def to_str(x):\n",
    "    return str(x)\n",
    "\n",
    "def to_datetime(x):\n",
    "    return datetime.datetime.strptime(x, '%Y-%m-%d')\n",
    "     "
   ]
  },
  {
   "cell_type": "code",
   "execution_count": 156,
   "metadata": {},
   "outputs": [
    {
     "output_type": "display_data",
     "data": {
      "text/plain": "          date         1         2         3         4         5         6  \\\n0   2019-03-07  0.021975  0.256711  0.263145  0.255715  0.250200  0.320991   \n1   2019-03-11  0.099256  0.284611  0.404874  0.278247  0.394208  0.288346   \n2   2019-03-12  0.213696  0.400107  0.472673  0.329794  0.457648  0.329494   \n3   2019-03-13  0.070800  0.404713  0.480916  0.413217  0.474332  0.322597   \n4   2019-03-18  0.304910  0.300881  0.318239  0.382453  0.315720  0.368690   \n..         ...       ...       ...       ...       ...       ...       ...   \n288 2019-12-27  0.319286  0.458095  0.472518  0.461336  0.331009  0.307674   \n289 2019-12-28  0.299705  0.473745  0.220901  0.472219  0.327864  0.432648   \n290 2019-12-29  0.398973  0.488005  0.336050  0.488010  0.262773  0.462338   \n291 2019-12-30  0.389687  0.493133  0.322872  0.488333  0.385967  0.462816   \n292 2019-12-31  0.385272  0.290020  0.325900  0.502929  0.386874  0.469597   \n\n            7         8         9  ...        23        24        25  \\\n0    0.276438  0.088899  0.257162  ...       NaN       NaN       NaN   \n1    0.174010  0.444643  0.323724  ...       NaN       NaN       NaN   \n2    0.375896  0.503678  0.475576  ...  0.314140  0.462152  0.321452   \n3    0.378800  0.532912  0.477338  ...  0.355607  0.044480  0.367332   \n4    0.430535  0.438577  0.228969  ...  0.449410  0.357371  0.452843   \n..        ...       ...       ...  ...       ...       ...       ...   \n288  0.469925  0.249909  0.328395  ...  0.118209  0.362004  0.448254   \n289  0.491846  0.380264  0.325719  ...  0.276403  0.404864  0.403618   \n290  0.374530  0.383884  0.325822  ...  0.316656  0.397632  0.273157   \n291  0.156542  0.368857  0.297893  ...  0.320967  0.401348  0.312782   \n292  0.334661  0.371401  0.387735  ...  0.325968  0.408677  0.320127   \n\n           26        27        28        29        30        31        32  \n0         NaN       NaN       NaN       NaN       NaN       NaN       NaN  \n1         NaN       NaN       NaN       NaN       NaN       NaN       NaN  \n2    0.319557  0.282380  0.220075  0.296584  0.316069  0.274357  0.405041  \n3    0.365085  0.328863  0.424965  0.440499  0.456324  0.311700  0.475670  \n4    0.442819  0.417317  0.302231  0.252051  0.486500  0.361043  0.319504  \n..        ...       ...       ...       ...       ...       ...       ...  \n288  0.311499  0.370029  0.363390  0.322205  0.325180  0.336654  0.284804  \n289  0.305119  0.363928  0.334069  0.312671  0.316373  0.424916  0.350771  \n290  0.305695  0.332493  0.396359  0.313109  0.314915  0.422897  0.369689  \n291  0.302641  0.404360  0.383216  0.281405  0.310012  0.423607  0.363342  \n292  0.309750  0.436125  0.401060  0.345388  0.314002  0.440693  0.369650  \n\n[293 rows x 33 columns]",
      "text/html": "<div>\n<style scoped>\n    .dataframe tbody tr th:only-of-type {\n        vertical-align: middle;\n    }\n\n    .dataframe tbody tr th {\n        vertical-align: top;\n    }\n\n    .dataframe thead th {\n        text-align: right;\n    }\n</style>\n<table border=\"1\" class=\"dataframe\">\n  <thead>\n    <tr style=\"text-align: right;\">\n      <th></th>\n      <th>date</th>\n      <th>1</th>\n      <th>2</th>\n      <th>3</th>\n      <th>4</th>\n      <th>5</th>\n      <th>6</th>\n      <th>7</th>\n      <th>8</th>\n      <th>9</th>\n      <th>...</th>\n      <th>23</th>\n      <th>24</th>\n      <th>25</th>\n      <th>26</th>\n      <th>27</th>\n      <th>28</th>\n      <th>29</th>\n      <th>30</th>\n      <th>31</th>\n      <th>32</th>\n    </tr>\n  </thead>\n  <tbody>\n    <tr>\n      <th>0</th>\n      <td>2019-03-07</td>\n      <td>0.021975</td>\n      <td>0.256711</td>\n      <td>0.263145</td>\n      <td>0.255715</td>\n      <td>0.250200</td>\n      <td>0.320991</td>\n      <td>0.276438</td>\n      <td>0.088899</td>\n      <td>0.257162</td>\n      <td>...</td>\n      <td>NaN</td>\n      <td>NaN</td>\n      <td>NaN</td>\n      <td>NaN</td>\n      <td>NaN</td>\n      <td>NaN</td>\n      <td>NaN</td>\n      <td>NaN</td>\n      <td>NaN</td>\n      <td>NaN</td>\n    </tr>\n    <tr>\n      <th>1</th>\n      <td>2019-03-11</td>\n      <td>0.099256</td>\n      <td>0.284611</td>\n      <td>0.404874</td>\n      <td>0.278247</td>\n      <td>0.394208</td>\n      <td>0.288346</td>\n      <td>0.174010</td>\n      <td>0.444643</td>\n      <td>0.323724</td>\n      <td>...</td>\n      <td>NaN</td>\n      <td>NaN</td>\n      <td>NaN</td>\n      <td>NaN</td>\n      <td>NaN</td>\n      <td>NaN</td>\n      <td>NaN</td>\n      <td>NaN</td>\n      <td>NaN</td>\n      <td>NaN</td>\n    </tr>\n    <tr>\n      <th>2</th>\n      <td>2019-03-12</td>\n      <td>0.213696</td>\n      <td>0.400107</td>\n      <td>0.472673</td>\n      <td>0.329794</td>\n      <td>0.457648</td>\n      <td>0.329494</td>\n      <td>0.375896</td>\n      <td>0.503678</td>\n      <td>0.475576</td>\n      <td>...</td>\n      <td>0.314140</td>\n      <td>0.462152</td>\n      <td>0.321452</td>\n      <td>0.319557</td>\n      <td>0.282380</td>\n      <td>0.220075</td>\n      <td>0.296584</td>\n      <td>0.316069</td>\n      <td>0.274357</td>\n      <td>0.405041</td>\n    </tr>\n    <tr>\n      <th>3</th>\n      <td>2019-03-13</td>\n      <td>0.070800</td>\n      <td>0.404713</td>\n      <td>0.480916</td>\n      <td>0.413217</td>\n      <td>0.474332</td>\n      <td>0.322597</td>\n      <td>0.378800</td>\n      <td>0.532912</td>\n      <td>0.477338</td>\n      <td>...</td>\n      <td>0.355607</td>\n      <td>0.044480</td>\n      <td>0.367332</td>\n      <td>0.365085</td>\n      <td>0.328863</td>\n      <td>0.424965</td>\n      <td>0.440499</td>\n      <td>0.456324</td>\n      <td>0.311700</td>\n      <td>0.475670</td>\n    </tr>\n    <tr>\n      <th>4</th>\n      <td>2019-03-18</td>\n      <td>0.304910</td>\n      <td>0.300881</td>\n      <td>0.318239</td>\n      <td>0.382453</td>\n      <td>0.315720</td>\n      <td>0.368690</td>\n      <td>0.430535</td>\n      <td>0.438577</td>\n      <td>0.228969</td>\n      <td>...</td>\n      <td>0.449410</td>\n      <td>0.357371</td>\n      <td>0.452843</td>\n      <td>0.442819</td>\n      <td>0.417317</td>\n      <td>0.302231</td>\n      <td>0.252051</td>\n      <td>0.486500</td>\n      <td>0.361043</td>\n      <td>0.319504</td>\n    </tr>\n    <tr>\n      <th>...</th>\n      <td>...</td>\n      <td>...</td>\n      <td>...</td>\n      <td>...</td>\n      <td>...</td>\n      <td>...</td>\n      <td>...</td>\n      <td>...</td>\n      <td>...</td>\n      <td>...</td>\n      <td>...</td>\n      <td>...</td>\n      <td>...</td>\n      <td>...</td>\n      <td>...</td>\n      <td>...</td>\n      <td>...</td>\n      <td>...</td>\n      <td>...</td>\n      <td>...</td>\n      <td>...</td>\n    </tr>\n    <tr>\n      <th>288</th>\n      <td>2019-12-27</td>\n      <td>0.319286</td>\n      <td>0.458095</td>\n      <td>0.472518</td>\n      <td>0.461336</td>\n      <td>0.331009</td>\n      <td>0.307674</td>\n      <td>0.469925</td>\n      <td>0.249909</td>\n      <td>0.328395</td>\n      <td>...</td>\n      <td>0.118209</td>\n      <td>0.362004</td>\n      <td>0.448254</td>\n      <td>0.311499</td>\n      <td>0.370029</td>\n      <td>0.363390</td>\n      <td>0.322205</td>\n      <td>0.325180</td>\n      <td>0.336654</td>\n      <td>0.284804</td>\n    </tr>\n    <tr>\n      <th>289</th>\n      <td>2019-12-28</td>\n      <td>0.299705</td>\n      <td>0.473745</td>\n      <td>0.220901</td>\n      <td>0.472219</td>\n      <td>0.327864</td>\n      <td>0.432648</td>\n      <td>0.491846</td>\n      <td>0.380264</td>\n      <td>0.325719</td>\n      <td>...</td>\n      <td>0.276403</td>\n      <td>0.404864</td>\n      <td>0.403618</td>\n      <td>0.305119</td>\n      <td>0.363928</td>\n      <td>0.334069</td>\n      <td>0.312671</td>\n      <td>0.316373</td>\n      <td>0.424916</td>\n      <td>0.350771</td>\n    </tr>\n    <tr>\n      <th>290</th>\n      <td>2019-12-29</td>\n      <td>0.398973</td>\n      <td>0.488005</td>\n      <td>0.336050</td>\n      <td>0.488010</td>\n      <td>0.262773</td>\n      <td>0.462338</td>\n      <td>0.374530</td>\n      <td>0.383884</td>\n      <td>0.325822</td>\n      <td>...</td>\n      <td>0.316656</td>\n      <td>0.397632</td>\n      <td>0.273157</td>\n      <td>0.305695</td>\n      <td>0.332493</td>\n      <td>0.396359</td>\n      <td>0.313109</td>\n      <td>0.314915</td>\n      <td>0.422897</td>\n      <td>0.369689</td>\n    </tr>\n    <tr>\n      <th>291</th>\n      <td>2019-12-30</td>\n      <td>0.389687</td>\n      <td>0.493133</td>\n      <td>0.322872</td>\n      <td>0.488333</td>\n      <td>0.385967</td>\n      <td>0.462816</td>\n      <td>0.156542</td>\n      <td>0.368857</td>\n      <td>0.297893</td>\n      <td>...</td>\n      <td>0.320967</td>\n      <td>0.401348</td>\n      <td>0.312782</td>\n      <td>0.302641</td>\n      <td>0.404360</td>\n      <td>0.383216</td>\n      <td>0.281405</td>\n      <td>0.310012</td>\n      <td>0.423607</td>\n      <td>0.363342</td>\n    </tr>\n    <tr>\n      <th>292</th>\n      <td>2019-12-31</td>\n      <td>0.385272</td>\n      <td>0.290020</td>\n      <td>0.325900</td>\n      <td>0.502929</td>\n      <td>0.386874</td>\n      <td>0.469597</td>\n      <td>0.334661</td>\n      <td>0.371401</td>\n      <td>0.387735</td>\n      <td>...</td>\n      <td>0.325968</td>\n      <td>0.408677</td>\n      <td>0.320127</td>\n      <td>0.309750</td>\n      <td>0.436125</td>\n      <td>0.401060</td>\n      <td>0.345388</td>\n      <td>0.314002</td>\n      <td>0.440693</td>\n      <td>0.369650</td>\n    </tr>\n  </tbody>\n</table>\n<p>293 rows × 33 columns</p>\n</div>"
     },
     "metadata": {}
    },
    {
     "output_type": "display_data",
     "data": {
      "text/plain": "      num_part  num_circ  num_ser              date_postup  \\\n0        30003         1        2  2019-01-04 00:00:00.000   \n1        30003         3       19  2019-01-03 00:00:00.000   \n2        30003         4       27  2019-01-02 00:00:00.000   \n3        30004         1        2  2019-01-04 00:00:00.000   \n4        30004         1        7  2019-01-05 00:00:00.000   \n...        ...       ...      ...                      ...   \n3862     31371         4       29  2019-01-18 00:00:00.000   \n3863     31378         4       26  2019-12-30 00:00:00.000   \n3864     31378         4       30  2019-12-25 00:00:00.000   \n3865     31379         4       25  2019-01-01 00:00:00.000   \n3866     31379         4       27  2019-01-02 00:00:00.000   \n\n                  date_status     sves  kol  ves_part  kol_part  ves_ed  ...  \\\n0     2019-01-04 22:00:00.000   64.556  165    691715      1769     391  ...   \n1     2019-01-03 10:30:00.000   44.994  115    691715      1769     391  ...   \n2     2019-01-02 10:30:00.000  237.488  607    691715      1769     391  ...   \n3     2019-01-04 22:00:00.000   96.518  247    703385      1798     391  ...   \n4     2019-01-04 10:00:00.000   16.410   42    703385      1798     391  ...   \n...                       ...      ...  ...       ...       ...     ...  ...   \n3862  2019-01-16 22:00:00.000   31.246   80    347800       890     391  ...   \n3863  2019-12-27 01:00:00.000   21.929   56    342690       875     392  ...   \n3864  2019-12-26 03:30:00.000  320.761  819    342690       875     392  ...   \n3865  2019-01-01 14:30:00.000  100.474  257    349900       895     391  ...   \n3866  2019-01-02 10:30:00.000  249.035  637    349900       895     391  ...   \n\n      Cu+Ag     Cu     As     Ni    Sb    O2    Au      Fe  unit    Massa  \n0     99.42  99.36  0.064  0.074  0.10  0.08  22.9  0.0013    A3  159.074  \n1     99.42  99.36  0.064  0.074  0.10  0.08  22.9  0.0013    A3  159.074  \n2     99.42  99.36  0.064  0.074  0.10  0.08  22.9  0.0013    A3  159.074  \n3     99.41  99.35  0.043  0.051  0.09  0.09  23.9  0.0020    A5  209.066  \n4     99.41  99.35  0.043  0.051  0.09  0.09  23.9  0.0020    A5  209.066  \n...     ...    ...    ...    ...   ...   ...   ...     ...   ...      ...  \n3862  99.42  99.33  0.106  0.071  0.11  0.14  39.2  0.0022    A1  181.194  \n3863  99.44  99.31  0.133  0.100  0.11  0.08  48.9  0.0016    A3  168.122  \n3864  99.44  99.31  0.133  0.100  0.11  0.08  48.9  0.0016    A3  168.122  \n3865  99.45  99.36  0.099  0.078  0.10  0.12  37.4  0.0027    A1  154.304  \n3866  99.45  99.36  0.099  0.078  0.10  0.12  37.4  0.0027    A1  154.304  \n\n[3867 rows x 26 columns]",
      "text/html": "<div>\n<style scoped>\n    .dataframe tbody tr th:only-of-type {\n        vertical-align: middle;\n    }\n\n    .dataframe tbody tr th {\n        vertical-align: top;\n    }\n\n    .dataframe thead th {\n        text-align: right;\n    }\n</style>\n<table border=\"1\" class=\"dataframe\">\n  <thead>\n    <tr style=\"text-align: right;\">\n      <th></th>\n      <th>num_part</th>\n      <th>num_circ</th>\n      <th>num_ser</th>\n      <th>date_postup</th>\n      <th>date_status</th>\n      <th>sves</th>\n      <th>kol</th>\n      <th>ves_part</th>\n      <th>kol_part</th>\n      <th>ves_ed</th>\n      <th>...</th>\n      <th>Cu+Ag</th>\n      <th>Cu</th>\n      <th>As</th>\n      <th>Ni</th>\n      <th>Sb</th>\n      <th>O2</th>\n      <th>Au</th>\n      <th>Fe</th>\n      <th>unit</th>\n      <th>Massa</th>\n    </tr>\n  </thead>\n  <tbody>\n    <tr>\n      <th>0</th>\n      <td>30003</td>\n      <td>1</td>\n      <td>2</td>\n      <td>2019-01-04 00:00:00.000</td>\n      <td>2019-01-04 22:00:00.000</td>\n      <td>64.556</td>\n      <td>165</td>\n      <td>691715</td>\n      <td>1769</td>\n      <td>391</td>\n      <td>...</td>\n      <td>99.42</td>\n      <td>99.36</td>\n      <td>0.064</td>\n      <td>0.074</td>\n      <td>0.10</td>\n      <td>0.08</td>\n      <td>22.9</td>\n      <td>0.0013</td>\n      <td>A3</td>\n      <td>159.074</td>\n    </tr>\n    <tr>\n      <th>1</th>\n      <td>30003</td>\n      <td>3</td>\n      <td>19</td>\n      <td>2019-01-03 00:00:00.000</td>\n      <td>2019-01-03 10:30:00.000</td>\n      <td>44.994</td>\n      <td>115</td>\n      <td>691715</td>\n      <td>1769</td>\n      <td>391</td>\n      <td>...</td>\n      <td>99.42</td>\n      <td>99.36</td>\n      <td>0.064</td>\n      <td>0.074</td>\n      <td>0.10</td>\n      <td>0.08</td>\n      <td>22.9</td>\n      <td>0.0013</td>\n      <td>A3</td>\n      <td>159.074</td>\n    </tr>\n    <tr>\n      <th>2</th>\n      <td>30003</td>\n      <td>4</td>\n      <td>27</td>\n      <td>2019-01-02 00:00:00.000</td>\n      <td>2019-01-02 10:30:00.000</td>\n      <td>237.488</td>\n      <td>607</td>\n      <td>691715</td>\n      <td>1769</td>\n      <td>391</td>\n      <td>...</td>\n      <td>99.42</td>\n      <td>99.36</td>\n      <td>0.064</td>\n      <td>0.074</td>\n      <td>0.10</td>\n      <td>0.08</td>\n      <td>22.9</td>\n      <td>0.0013</td>\n      <td>A3</td>\n      <td>159.074</td>\n    </tr>\n    <tr>\n      <th>3</th>\n      <td>30004</td>\n      <td>1</td>\n      <td>2</td>\n      <td>2019-01-04 00:00:00.000</td>\n      <td>2019-01-04 22:00:00.000</td>\n      <td>96.518</td>\n      <td>247</td>\n      <td>703385</td>\n      <td>1798</td>\n      <td>391</td>\n      <td>...</td>\n      <td>99.41</td>\n      <td>99.35</td>\n      <td>0.043</td>\n      <td>0.051</td>\n      <td>0.09</td>\n      <td>0.09</td>\n      <td>23.9</td>\n      <td>0.0020</td>\n      <td>A5</td>\n      <td>209.066</td>\n    </tr>\n    <tr>\n      <th>4</th>\n      <td>30004</td>\n      <td>1</td>\n      <td>7</td>\n      <td>2019-01-05 00:00:00.000</td>\n      <td>2019-01-04 10:00:00.000</td>\n      <td>16.410</td>\n      <td>42</td>\n      <td>703385</td>\n      <td>1798</td>\n      <td>391</td>\n      <td>...</td>\n      <td>99.41</td>\n      <td>99.35</td>\n      <td>0.043</td>\n      <td>0.051</td>\n      <td>0.09</td>\n      <td>0.09</td>\n      <td>23.9</td>\n      <td>0.0020</td>\n      <td>A5</td>\n      <td>209.066</td>\n    </tr>\n    <tr>\n      <th>...</th>\n      <td>...</td>\n      <td>...</td>\n      <td>...</td>\n      <td>...</td>\n      <td>...</td>\n      <td>...</td>\n      <td>...</td>\n      <td>...</td>\n      <td>...</td>\n      <td>...</td>\n      <td>...</td>\n      <td>...</td>\n      <td>...</td>\n      <td>...</td>\n      <td>...</td>\n      <td>...</td>\n      <td>...</td>\n      <td>...</td>\n      <td>...</td>\n      <td>...</td>\n      <td>...</td>\n    </tr>\n    <tr>\n      <th>3862</th>\n      <td>31371</td>\n      <td>4</td>\n      <td>29</td>\n      <td>2019-01-18 00:00:00.000</td>\n      <td>2019-01-16 22:00:00.000</td>\n      <td>31.246</td>\n      <td>80</td>\n      <td>347800</td>\n      <td>890</td>\n      <td>391</td>\n      <td>...</td>\n      <td>99.42</td>\n      <td>99.33</td>\n      <td>0.106</td>\n      <td>0.071</td>\n      <td>0.11</td>\n      <td>0.14</td>\n      <td>39.2</td>\n      <td>0.0022</td>\n      <td>A1</td>\n      <td>181.194</td>\n    </tr>\n    <tr>\n      <th>3863</th>\n      <td>31378</td>\n      <td>4</td>\n      <td>26</td>\n      <td>2019-12-30 00:00:00.000</td>\n      <td>2019-12-27 01:00:00.000</td>\n      <td>21.929</td>\n      <td>56</td>\n      <td>342690</td>\n      <td>875</td>\n      <td>392</td>\n      <td>...</td>\n      <td>99.44</td>\n      <td>99.31</td>\n      <td>0.133</td>\n      <td>0.100</td>\n      <td>0.11</td>\n      <td>0.08</td>\n      <td>48.9</td>\n      <td>0.0016</td>\n      <td>A3</td>\n      <td>168.122</td>\n    </tr>\n    <tr>\n      <th>3864</th>\n      <td>31378</td>\n      <td>4</td>\n      <td>30</td>\n      <td>2019-12-25 00:00:00.000</td>\n      <td>2019-12-26 03:30:00.000</td>\n      <td>320.761</td>\n      <td>819</td>\n      <td>342690</td>\n      <td>875</td>\n      <td>392</td>\n      <td>...</td>\n      <td>99.44</td>\n      <td>99.31</td>\n      <td>0.133</td>\n      <td>0.100</td>\n      <td>0.11</td>\n      <td>0.08</td>\n      <td>48.9</td>\n      <td>0.0016</td>\n      <td>A3</td>\n      <td>168.122</td>\n    </tr>\n    <tr>\n      <th>3865</th>\n      <td>31379</td>\n      <td>4</td>\n      <td>25</td>\n      <td>2019-01-01 00:00:00.000</td>\n      <td>2019-01-01 14:30:00.000</td>\n      <td>100.474</td>\n      <td>257</td>\n      <td>349900</td>\n      <td>895</td>\n      <td>391</td>\n      <td>...</td>\n      <td>99.45</td>\n      <td>99.36</td>\n      <td>0.099</td>\n      <td>0.078</td>\n      <td>0.10</td>\n      <td>0.12</td>\n      <td>37.4</td>\n      <td>0.0027</td>\n      <td>A1</td>\n      <td>154.304</td>\n    </tr>\n    <tr>\n      <th>3866</th>\n      <td>31379</td>\n      <td>4</td>\n      <td>27</td>\n      <td>2019-01-02 00:00:00.000</td>\n      <td>2019-01-02 10:30:00.000</td>\n      <td>249.035</td>\n      <td>637</td>\n      <td>349900</td>\n      <td>895</td>\n      <td>391</td>\n      <td>...</td>\n      <td>99.45</td>\n      <td>99.36</td>\n      <td>0.099</td>\n      <td>0.078</td>\n      <td>0.10</td>\n      <td>0.12</td>\n      <td>37.4</td>\n      <td>0.0027</td>\n      <td>A1</td>\n      <td>154.304</td>\n    </tr>\n  </tbody>\n</table>\n<p>3867 rows × 26 columns</p>\n</div>"
     },
     "metadata": {}
    }
   ],
   "source": [
    "voltage = pd.read_excel('../files/cellsense/mean_voltage_on_series.xlsx')\n",
    "anodes_in_series = pd.read_excel('../files/anodes_in_series.xlsx')\n",
    "display(voltage)\n",
    "display(anodes_in_series)\n"
   ]
  },
  {
   "cell_type": "code",
   "execution_count": 157,
   "metadata": {},
   "outputs": [],
   "source": [
    "def start(voltage):\n",
    "    columns = ['date','num_series','voltage','anodes_mass','Pb','Zn','Ag','Sn','Cu+Ag','Cu','As','Ni','Sb','O2','Au','Fe']\n",
    "    res = pd.DataFrame(columns = columns)\n",
    "\n",
    "    voltage['date'] = voltage['date'].apply(to_str)\n",
    "    voltage['date'] = voltage['date'].apply(change_date)\n",
    "    anodes_in_series['date_postup'] = anodes_in_series['date_postup'].apply(change_date)\n",
    "    anodes_in_series['date_postup'] = anodes_in_series['date_postup'].apply(to_datetime)\n",
    "\n",
    "    voltage_date = voltage['date'].values\n",
    "\n",
    "    for date in voltage_date:\n",
    "        item = create_item(voltage[voltage['date'] == date], date)\n",
    "        res = pd.concat([res, item])\n",
    "\n",
    "    return res"
   ]
  },
  {
   "cell_type": "code",
   "execution_count": 158,
   "metadata": {},
   "outputs": [],
   "source": [
    "def create_item(voltage_item, date):\n",
    "    series = voltage_item.columns[1:]\n",
    "    mean_voltage_on_series = voltage_item.melt(value_vars=voltage_item.columns[1:])\n",
    "    columns = ['date','num_series','voltage','anodes_mass','Pb','Zn','Ag','Sn','Cu+Ag','Cu','As','Ni','Sb','O2','Au','Fe']\n",
    "    res = pd.DataFrame(columns = columns)\n",
    "\n",
    "    for num in range(1,33):\n",
    "        anodes_data = {\n",
    "            'date': date,\n",
    "            'num_series': num,\n",
    "            'voltage': voltage_item.iloc[:,num].values[0]\n",
    "        }\n",
    "        anodes_data.update(calculate_chemical_analysis(get_anodes_in_series(num, date)))\n",
    "        temp = pd.DataFrame(anodes_data, index=[0])\n",
    "        res = pd.concat([res, temp])\n",
    "\n",
    "    # display(res)\n",
    "    return res"
   ]
  },
  {
   "cell_type": "code",
   "execution_count": 159,
   "metadata": {},
   "outputs": [],
   "source": [
    "def get_anodes_in_series(num_series, date):\n",
    "    date_start, date_end = create_date(date)\n",
    "    res = anodes_in_series[(anodes_in_series['date_postup'] >= date_start) & (anodes_in_series['date_postup'] < date_end) & (anodes_in_series['num_ser'] == num_series)]\n",
    "    return res"
   ]
  },
  {
   "cell_type": "code",
   "execution_count": 160,
   "metadata": {},
   "outputs": [],
   "source": [
    "def create_date(date):\n",
    "    date_end = datetime.datetime.strptime(date, '%Y-%m-%d')\n",
    "    date_start = date_end - datetime.timedelta(days=20)\n",
    "    date_start = date_start.strftime('%Y-%m-%d')\n",
    "    return date_start, date_end"
   ]
  },
  {
   "cell_type": "code",
   "execution_count": 161,
   "metadata": {},
   "outputs": [],
   "source": [
    "def calculate_chemical_analysis(anodes):\n",
    "    \n",
    "    anodes['fraction'] = anodes['sves'] / anodes['sves'].sum()\n",
    "    anodes_data = {\n",
    "        'anodes_mass': np.sum(anodes['sves'])\n",
    "    }\n",
    "    \n",
    "    for element in anodes.columns[12:24]:\n",
    "        anodes_data[element] = np.sum(anodes[element] * anodes['fraction'])\n",
    "\n",
    "    return anodes_data"
   ]
  },
  {
   "cell_type": "code",
   "execution_count": 162,
   "metadata": {},
   "outputs": [],
   "source": [
    "result = start(voltage)\n",
    "result.to_excel('anodes_voltage_result(20 days).xlsx')"
   ]
  }
 ]
}